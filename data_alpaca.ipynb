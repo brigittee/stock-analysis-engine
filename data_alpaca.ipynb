{
  "nbformat": 4,
  "nbformat_minor": 0,
  "metadata": {
    "colab": {
      "name": "data_alpaca.ipynb",
      "provenance": [],
      "collapsed_sections": [],
      "authorship_tag": "ABX9TyM+ilAMTjM2FCaGubVg6MRp",
      "include_colab_link": true
    },
    "kernelspec": {
      "name": "python3",
      "display_name": "Python 3"
    }
  },
  "cells": [
    {
      "cell_type": "markdown",
      "metadata": {
        "id": "view-in-github",
        "colab_type": "text"
      },
      "source": [
        "<a href=\"https://colab.research.google.com/github/brigittee/stock-analysis-engine/blob/master/data_alpaca.ipynb\" target=\"_parent\"><img src=\"https://colab.research.google.com/assets/colab-badge.svg\" alt=\"Open In Colab\"/></a>"
      ]
    },
    {
      "cell_type": "code",
      "metadata": {
        "id": "blHUIFseMiGp",
        "colab_type": "code",
        "colab": {
          "base_uri": "https://localhost:8080/",
          "height": 153
        },
        "outputId": "2d987b08-aa79-4f67-adb5-1ae648cccc56"
      },
      "source": [
        "# load data from alpaca / polygon\n",
        "!pip3 install alpaca-trade-api -q\n",
        "import pandas as pd"
      ],
      "execution_count": 3,
      "outputs": [
        {
          "output_type": "stream",
          "text": [
            "\u001b[K     |████████████████████████████████| 81kB 5.3MB/s \n",
            "\u001b[K     |████████████████████████████████| 204kB 17.2MB/s \n",
            "\u001b[K     |████████████████████████████████| 1.2MB 15.2MB/s \n",
            "\u001b[K     |████████████████████████████████| 153kB 28.0MB/s \n",
            "\u001b[K     |████████████████████████████████| 256kB 33.5MB/s \n",
            "\u001b[?25h  Building wheel for asyncio-nats-client (setup.py) ... \u001b[?25l\u001b[?25hdone\n",
            "  Building wheel for alpha-vantage (setup.py) ... \u001b[?25l\u001b[?25hdone\n",
            "  Building wheel for idna-ssl (setup.py) ... \u001b[?25l\u001b[?25hdone\n"
          ],
          "name": "stdout"
        }
      ]
    },
    {
      "cell_type": "markdown",
      "metadata": {
        "id": "ZHs_NaCTM_iR",
        "colab_type": "text"
      },
      "source": [
        "#Global parameters"
      ]
    },
    {
      "cell_type": "code",
      "metadata": {
        "id": "INMKRCjfNAyH",
        "colab_type": "code",
        "colab": {}
      },
      "source": [
        "# global parameters\n",
        "API_KEY = 'AK9V2JGEUOIBRLPHYGQP'\n",
        "SECRET_KEY = 'X35FNDJY4y0CDGvs7JF4dZ3pCGOYus6ChotHahVa'\n",
        "symbol = 'AAPL'  # 'TSE:TD'\n",
        "symbol = 'SPY'"
      ],
      "execution_count": 4,
      "outputs": []
    },
    {
      "cell_type": "markdown",
      "metadata": {
        "id": "nl__Gon6hR0O",
        "colab_type": "text"
      },
      "source": [
        "# download data"
      ]
    },
    {
      "cell_type": "code",
      "metadata": {
        "id": "4YxXf2lzhRLy",
        "colab_type": "code",
        "colab": {}
      },
      "source": [
        "def intraday(symbol, from_date, to_date):\n",
        "  # intraday data available from '2004-01-01'. Each reuqest has a limit of 5000 data points (~ 7 days of intraday data).\n",
        "  api = tradeapi.REST(API_KEY, SECRET_KEY, api_version='v2') # or use ENV Vars shown below\n",
        "  dat = api.polygon.historic_agg_v2(symbol, multiplier=1, timespan='minute', _from=from_date, to=to_date, unadjusted=False, limit=None).df.reset_index(level=0, inplace=False)\n",
        "  return dat\n",
        "\n",
        "  "
      ],
      "execution_count": null,
      "outputs": []
    },
    {
      "cell_type": "markdown",
      "metadata": {
        "id": "IabT3XfjNIrt",
        "colab_type": "text"
      },
      "source": [
        "#API"
      ]
    },
    {
      "cell_type": "code",
      "metadata": {
        "id": "rm1k-VUjNKNX",
        "colab_type": "code",
        "colab": {}
      },
      "source": [
        "https://api.alpaca.markets"
      ],
      "execution_count": null,
      "outputs": []
    },
    {
      "cell_type": "code",
      "metadata": {
        "id": "t4n-N9X2POlQ",
        "colab_type": "code",
        "colab": {
          "base_uri": "https://localhost:8080/",
          "height": 35
        },
        "outputId": "83e356f8-3eed-4196-ad66-3afe57aeb989"
      },
      "source": [
        "import alpaca_trade_api as tradeapi\n",
        "\n",
        "api = tradeapi.REST(API_KEY, SECRET_KEY, api_version='v2') # or use ENV Vars shown below\n",
        "account = api.get_account()\n",
        "api.list_positions()\n",
        "account.status"
      ],
      "execution_count": 5,
      "outputs": [
        {
          "output_type": "execute_result",
          "data": {
            "application/vnd.google.colaboratory.intrinsic": {
              "type": "string"
            },
            "text/plain": [
              "'ACCOUNT_UPDATED'"
            ]
          },
          "metadata": {
            "tags": []
          },
          "execution_count": 5
        }
      ]
    },
    {
      "cell_type": "code",
      "metadata": {
        "id": "0RY1ToYeO28L",
        "colab_type": "code",
        "colab": {}
      },
      "source": [
        "from_date = '2004-01-01'   # '2020-06-20'\n",
        "to_date = '2004-02-01'     # '2020-07-01'"
      ],
      "execution_count": 41,
      "outputs": []
    },
    {
      "cell_type": "code",
      "metadata": {
        "id": "T0jqzbgfQLTz",
        "colab_type": "code",
        "colab": {
          "base_uri": "https://localhost:8080/",
          "height": 419
        },
        "outputId": "cf420006-fe26-4b72-abbb-7a5354999a89"
      },
      "source": [
        "dat = api.polygon.historic_agg_v2(symbol, multiplier=1, timespan='minute', _from=from_date, to=to_date, unadjusted=False, limit=None).df.reset_index(level=0, inplace=False)\n",
        "dat # timestamp is NewYork timezone"
      ],
      "execution_count": 42,
      "outputs": [
        {
          "output_type": "execute_result",
          "data": {
            "text/html": [
              "<div>\n",
              "<style scoped>\n",
              "    .dataframe tbody tr th:only-of-type {\n",
              "        vertical-align: middle;\n",
              "    }\n",
              "\n",
              "    .dataframe tbody tr th {\n",
              "        vertical-align: top;\n",
              "    }\n",
              "\n",
              "    .dataframe thead th {\n",
              "        text-align: right;\n",
              "    }\n",
              "</style>\n",
              "<table border=\"1\" class=\"dataframe\">\n",
              "  <thead>\n",
              "    <tr style=\"text-align: right;\">\n",
              "      <th></th>\n",
              "      <th>timestamp</th>\n",
              "      <th>open</th>\n",
              "      <th>high</th>\n",
              "      <th>low</th>\n",
              "      <th>close</th>\n",
              "      <th>volume</th>\n",
              "    </tr>\n",
              "  </thead>\n",
              "  <tbody>\n",
              "    <tr>\n",
              "      <th>0</th>\n",
              "      <td>2004-01-02 08:00:00-05:00</td>\n",
              "      <td>111.85</td>\n",
              "      <td>111.85</td>\n",
              "      <td>111.85</td>\n",
              "      <td>111.85</td>\n",
              "      <td>800.0</td>\n",
              "    </tr>\n",
              "    <tr>\n",
              "      <th>1</th>\n",
              "      <td>2004-01-02 08:01:00-05:00</td>\n",
              "      <td>111.82</td>\n",
              "      <td>111.82</td>\n",
              "      <td>111.82</td>\n",
              "      <td>111.82</td>\n",
              "      <td>200.0</td>\n",
              "    </tr>\n",
              "    <tr>\n",
              "      <th>2</th>\n",
              "      <td>2004-01-02 08:03:00-05:00</td>\n",
              "      <td>111.83</td>\n",
              "      <td>111.83</td>\n",
              "      <td>111.83</td>\n",
              "      <td>111.83</td>\n",
              "      <td>200.0</td>\n",
              "    </tr>\n",
              "    <tr>\n",
              "      <th>3</th>\n",
              "      <td>2004-01-02 08:04:00-05:00</td>\n",
              "      <td>111.81</td>\n",
              "      <td>111.81</td>\n",
              "      <td>111.80</td>\n",
              "      <td>111.80</td>\n",
              "      <td>3300.0</td>\n",
              "    </tr>\n",
              "    <tr>\n",
              "      <th>4</th>\n",
              "      <td>2004-01-02 08:06:00-05:00</td>\n",
              "      <td>111.85</td>\n",
              "      <td>111.85</td>\n",
              "      <td>111.85</td>\n",
              "      <td>111.85</td>\n",
              "      <td>700.0</td>\n",
              "    </tr>\n",
              "    <tr>\n",
              "      <th>...</th>\n",
              "      <td>...</td>\n",
              "      <td>...</td>\n",
              "      <td>...</td>\n",
              "      <td>...</td>\n",
              "      <td>...</td>\n",
              "      <td>...</td>\n",
              "    </tr>\n",
              "    <tr>\n",
              "      <th>4995</th>\n",
              "      <td>2004-01-16 08:04:00-05:00</td>\n",
              "      <td>113.97</td>\n",
              "      <td>113.97</td>\n",
              "      <td>113.97</td>\n",
              "      <td>113.97</td>\n",
              "      <td>3000.0</td>\n",
              "    </tr>\n",
              "    <tr>\n",
              "      <th>4996</th>\n",
              "      <td>2004-01-16 08:15:00-05:00</td>\n",
              "      <td>113.96</td>\n",
              "      <td>113.96</td>\n",
              "      <td>113.96</td>\n",
              "      <td>113.96</td>\n",
              "      <td>3000.0</td>\n",
              "    </tr>\n",
              "    <tr>\n",
              "      <th>4997</th>\n",
              "      <td>2004-01-16 08:21:00-05:00</td>\n",
              "      <td>113.91</td>\n",
              "      <td>113.91</td>\n",
              "      <td>113.91</td>\n",
              "      <td>113.91</td>\n",
              "      <td>400.0</td>\n",
              "    </tr>\n",
              "    <tr>\n",
              "      <th>4998</th>\n",
              "      <td>2004-01-16 08:24:00-05:00</td>\n",
              "      <td>113.96</td>\n",
              "      <td>113.96</td>\n",
              "      <td>113.96</td>\n",
              "      <td>113.96</td>\n",
              "      <td>900.0</td>\n",
              "    </tr>\n",
              "    <tr>\n",
              "      <th>4999</th>\n",
              "      <td>2004-01-16 08:32:00-05:00</td>\n",
              "      <td>114.00</td>\n",
              "      <td>114.00</td>\n",
              "      <td>114.00</td>\n",
              "      <td>114.00</td>\n",
              "      <td>100.0</td>\n",
              "    </tr>\n",
              "  </tbody>\n",
              "</table>\n",
              "<p>5000 rows × 6 columns</p>\n",
              "</div>"
            ],
            "text/plain": [
              "                     timestamp    open    high     low   close  volume\n",
              "0    2004-01-02 08:00:00-05:00  111.85  111.85  111.85  111.85   800.0\n",
              "1    2004-01-02 08:01:00-05:00  111.82  111.82  111.82  111.82   200.0\n",
              "2    2004-01-02 08:03:00-05:00  111.83  111.83  111.83  111.83   200.0\n",
              "3    2004-01-02 08:04:00-05:00  111.81  111.81  111.80  111.80  3300.0\n",
              "4    2004-01-02 08:06:00-05:00  111.85  111.85  111.85  111.85   700.0\n",
              "...                        ...     ...     ...     ...     ...     ...\n",
              "4995 2004-01-16 08:04:00-05:00  113.97  113.97  113.97  113.97  3000.0\n",
              "4996 2004-01-16 08:15:00-05:00  113.96  113.96  113.96  113.96  3000.0\n",
              "4997 2004-01-16 08:21:00-05:00  113.91  113.91  113.91  113.91   400.0\n",
              "4998 2004-01-16 08:24:00-05:00  113.96  113.96  113.96  113.96   900.0\n",
              "4999 2004-01-16 08:32:00-05:00  114.00  114.00  114.00  114.00   100.0\n",
              "\n",
              "[5000 rows x 6 columns]"
            ]
          },
          "metadata": {
            "tags": []
          },
          "execution_count": 42
        }
      ]
    },
    {
      "cell_type": "code",
      "metadata": {
        "id": "B5qcrG4aOadF",
        "colab_type": "code",
        "colab": {
          "base_uri": "https://localhost:8080/",
          "height": 479
        },
        "outputId": "1e4a9493-d3aa-45e6-f4ba-91c86be7cd05"
      },
      "source": [
        "import matplotlib.pyplot as plt\n",
        "import numpy as np\n",
        "plt.plot(dat['timestamp'],dat['close'])\n",
        "# You can specify a rotation for the tick labels in degrees or with keywords.\n",
        "plt.xticks(x, labels, rotation='vertical')\n",
        "# Pad margins so that markers don't get clipped by the axes\n",
        "#plt.margins(0.2)\n",
        "# Tweak spacing to prevent clipping of tick-labels\n",
        "#plt.subplots_adjust(bottom=0.15)\n",
        "plt.show()"
      ],
      "execution_count": 46,
      "outputs": [
        {
          "output_type": "error",
          "ename": "NameError",
          "evalue": "ignored",
          "traceback": [
            "\u001b[0;31m---------------------------------------------------------------------------\u001b[0m",
            "\u001b[0;31mNameError\u001b[0m                                 Traceback (most recent call last)",
            "\u001b[0;32m<ipython-input-46-8a3833aef177>\u001b[0m in \u001b[0;36m<module>\u001b[0;34m()\u001b[0m\n\u001b[1;32m      3\u001b[0m \u001b[0mplt\u001b[0m\u001b[0;34m.\u001b[0m\u001b[0mplot\u001b[0m\u001b[0;34m(\u001b[0m\u001b[0mdat\u001b[0m\u001b[0;34m[\u001b[0m\u001b[0;34m'timestamp'\u001b[0m\u001b[0;34m]\u001b[0m\u001b[0;34m,\u001b[0m\u001b[0mdat\u001b[0m\u001b[0;34m[\u001b[0m\u001b[0;34m'close'\u001b[0m\u001b[0;34m]\u001b[0m\u001b[0;34m)\u001b[0m\u001b[0;34m\u001b[0m\u001b[0;34m\u001b[0m\u001b[0m\n\u001b[1;32m      4\u001b[0m \u001b[0;31m# You can specify a rotation for the tick labels in degrees or with keywords.\u001b[0m\u001b[0;34m\u001b[0m\u001b[0;34m\u001b[0m\u001b[0;34m\u001b[0m\u001b[0m\n\u001b[0;32m----> 5\u001b[0;31m \u001b[0mplt\u001b[0m\u001b[0;34m.\u001b[0m\u001b[0mxticks\u001b[0m\u001b[0;34m(\u001b[0m\u001b[0mx\u001b[0m\u001b[0;34m,\u001b[0m \u001b[0mlabels\u001b[0m\u001b[0;34m,\u001b[0m \u001b[0mrotation\u001b[0m\u001b[0;34m=\u001b[0m\u001b[0;34m'vertical'\u001b[0m\u001b[0;34m)\u001b[0m\u001b[0;34m\u001b[0m\u001b[0;34m\u001b[0m\u001b[0m\n\u001b[0m\u001b[1;32m      6\u001b[0m \u001b[0;31m# Pad margins so that markers don't get clipped by the axes\u001b[0m\u001b[0;34m\u001b[0m\u001b[0;34m\u001b[0m\u001b[0;34m\u001b[0m\u001b[0m\n\u001b[1;32m      7\u001b[0m \u001b[0;31m#plt.margins(0.2)\u001b[0m\u001b[0;34m\u001b[0m\u001b[0;34m\u001b[0m\u001b[0;34m\u001b[0m\u001b[0m\n",
            "\u001b[0;31mNameError\u001b[0m: name 'x' is not defined"
          ]
        },
        {
          "output_type": "display_data",
          "data": {
            "image/png": "[encoded data removed]",
            "text/plain": [
              "<Figure size 432x288 with 1 Axes>"
            ]
          },
          "metadata": {
            "tags": [],
            "needs_background": "light"
          }
        }
      ]
    },
    {
      "cell_type": "code",
      "metadata": {
        "id": "UJKh2F7Gd6i9",
        "colab_type": "code",
        "colab": {
          "base_uri": "https://localhost:8080/",
          "height": 119
        },
        "outputId": "705587c3-5e3a-48e9-9cf2-a3a37eb0d20e"
      },
      "source": [
        "np.unique(dat['timestamp'].dt.date)"
      ],
      "execution_count": 43,
      "outputs": [
        {
          "output_type": "execute_result",
          "data": {
            "text/plain": [
              "array([datetime.date(2004, 1, 2), datetime.date(2004, 1, 5),\n",
              "       datetime.date(2004, 1, 6), datetime.date(2004, 1, 7),\n",
              "       datetime.date(2004, 1, 8), datetime.date(2004, 1, 9),\n",
              "       datetime.date(2004, 1, 12), datetime.date(2004, 1, 13),\n",
              "       datetime.date(2004, 1, 14), datetime.date(2004, 1, 15),\n",
              "       datetime.date(2004, 1, 16)], dtype=object)"
            ]
          },
          "metadata": {
            "tags": []
          },
          "execution_count": 43
        }
      ]
    },
    {
      "cell_type": "code",
      "metadata": {
        "id": "ohbkDmQxMuP1",
        "colab_type": "code",
        "colab": {
          "base_uri": "https://localhost:8080/",
          "height": 221
        },
        "outputId": "bca9e34e-09fb-4df4-b811-5a9fcc46e6a8"
      },
      "source": [
        "dat['timestamp']"
      ],
      "execution_count": 47,
      "outputs": [
        {
          "output_type": "execute_result",
          "data": {
            "text/plain": [
              "0      2004-01-02 08:00:00-05:00\n",
              "1      2004-01-02 08:01:00-05:00\n",
              "2      2004-01-02 08:03:00-05:00\n",
              "3      2004-01-02 08:04:00-05:00\n",
              "4      2004-01-02 08:06:00-05:00\n",
              "                  ...           \n",
              "4995   2004-01-16 08:04:00-05:00\n",
              "4996   2004-01-16 08:15:00-05:00\n",
              "4997   2004-01-16 08:21:00-05:00\n",
              "4998   2004-01-16 08:24:00-05:00\n",
              "4999   2004-01-16 08:32:00-05:00\n",
              "Name: timestamp, Length: 5000, dtype: datetime64[ns, America/New_York]"
            ]
          },
          "metadata": {
            "tags": []
          },
          "execution_count": 47
        }
      ]
    },
    {
      "cell_type": "code",
      "metadata": {
        "id": "3FnjzhzeOLo4",
        "colab_type": "code",
        "colab": {
          "base_uri": "https://localhost:8080/",
          "height": 34
        },
        "outputId": "b6062ad3-9a03-49e8-9a94-ebf1a34486b2"
      },
      "source": [
        "dat.shape"
      ],
      "execution_count": 21,
      "outputs": [
        {
          "output_type": "execute_result",
          "data": {
            "text/plain": [
              "(5856, 6)"
            ]
          },
          "metadata": {
            "tags": []
          },
          "execution_count": 21
        }
      ]
    },
    {
      "cell_type": "code",
      "metadata": {
        "id": "x6NFYvxVOWJm",
        "colab_type": "code",
        "colab": {
          "base_uri": "https://localhost:8080/",
          "height": 34
        },
        "outputId": "8c678669-7b5e-4e56-b655-4e89ca1ad3d2"
      },
      "source": [
        "dat.shape"
      ],
      "execution_count": 44,
      "outputs": [
        {
          "output_type": "execute_result",
          "data": {
            "text/plain": [
              "(5000, 6)"
            ]
          },
          "metadata": {
            "tags": []
          },
          "execution_count": 44
        }
      ]
    },
    {
      "cell_type": "code",
      "metadata": {
        "id": "fhp0Dl_zZhML",
        "colab_type": "code",
        "colab": {}
      },
      "source": [
        ""
      ],
      "execution_count": null,
      "outputs": []
    }
  ]
}